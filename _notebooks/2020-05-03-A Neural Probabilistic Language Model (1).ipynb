{
 "cells": [
  {
   "cell_type": "markdown",
   "metadata": {},
   "source": [
    "# \"A Neural Probabilistic Language Model\"\n",
    "> Neural Network to model the language modeling task and to learn the distributed word representation with it\n",
    "- toc: true\n",
    "- branch: master\n",
    "- badges: true\n",
    "- comments: true\n",
    "- categories: [nnlm, torch, language model, nlp]"
   ]
  },
  {
   "cell_type": "markdown",
   "metadata": {},
   "source": [
    "\n",
    "We will go through the paper by Yoshua Bengio - [A Neural Probabilistic Language Model]( http://www.jmlr.org/papers/volume3/bengio03a/bengio03a.pdf)"
   ]
  },
  {
   "cell_type": "markdown",
   "metadata": {},
   "source": [
    "## Language Modeling\n",
    "In language modeling task we try to learn the joint probability function of word sequences p(w1 w2 .. wm). \n",
    "\n",
    "p(w1 w2 .. wm) = count(w1 w2 .. wm) / count(all m-gram word seq)\n",
    "\n",
    "## Unseen Word sequences\n",
    "Calculating joint probability is difficult becuase it involves counting all the m-word sequences and also, it doesn't generalize well on unseen word sequences. \n",
    "\n",
    "What will happen to the word sequences we have not seen during the modeling time? We will assign a zero probability to all such sequences.\n",
    "\n",
    "We use probability chain formula to frame the joint probability as a product of conditional probabilities. We define joint probability as product of conditional probabilities as follows\n",
    "\n",
    "p(w1 w2 ..wm) = p(w1) p(w2|w1) p(w3|w2w1) .. p(wm|w1..wm-1)\n",
    "\n",
    "Calculating conditional probability is comparatively easy.   \n",
    "p(w3|w2 w1) = count(w1 w2 w2)/count(w1 w2)\n",
    "    \n",
    "But still we have the same problem when calculating conditional probability of long word sequences - it is highly likely that we won't have seen such long sequence of exact words during the modeling time. How do we handle this?  \n",
    "\n",
    "## N-gram assumption\n",
    "Linguists have observed that a word depends only n previous words and not all the words before it. This is the n-gram or Markov assumption. This simplifies the function p(wm|w1 w2..wm-1) into p(wm| wm-n ..wm-1). If we make a trigram(n=3) assumption, which is popular in statistical language modeling, it becomes p(wm| wm-1 wm-2), i.e. each word is assumed to be dependent on only last two words in the sequence.\n",
    "    \n",
    "## Back-off and Smoothed Models\n",
    "To further improve the generalization on unseen word sequences, there a few more bag of tricks like back-off trigram model where if p(w4|w3 w2) is not known to us, we consider futher smaller sequences until we find the required probability. We look at p(w4|w3) if it is available, else we look at p(w4). Also, we use smoothed trigram model to distribute the probability mass.\n",
    "    \n",
    "\n",
    "## Bengio's NNLM paper \n",
    "It addresses two problems with the traditional statistical language modelling \n",
    "\n",
    "1. Curse of Dimensionality  \n",
    "To model a joint distribution of 10-gram word sequence of 10,000 words vocabulary, there are 10,000^10 -1 free parameters required. When modeling continous variables, we obtain generalization more easily because function to be learned is expected to have some local smoothness, i.e. if we have smoothness property for language modeling task, we should be able to use some local smoothness to generalize the model to unseen word sequences. \n",
    "If we have seen a word sequence \"The cat is walking in the bedroom\", it should be able to generalize to simliar word sequence like \"A dog was running in the room\" as \"dog\" and \"cat\" have similar semantic and grammatic roles.      The generalization in the statistical language modeling is obtained by gluing together(product of conditional probabilities) the short subsequneces. Typically, trigrams were considered becuase of the curse of dimensionality. It doesn't take in to account more than 1-2 previous words.\n",
    "  \n",
    "  \n",
    "2. Not taking into account similarity between words  \n",
    "The big problem in language modeling is generalization. If the model understands the semantic simliary between words, it will generalize better.\n",
    "  \n",
    "    \n",
    "## Previous Work \n",
    "- <b>Neural Networks for Modeling Joint Probability Distribution-</b> Neural networks have been used to model the joint probability distribution of random variables and also for lanugage modeling before this paper. Each output node spits the conditional probability of a word give the sequence of words as input. \n",
    "\n",
    "- <b>Word Similarities</b> Discovering the word simliarties to obtain generalization has been tried as well, by clustering similar words together but the model proposed by Bengio learns the distributed feature vector to represent word similarty. \n",
    "    \n",
    "- <b>Vector space representation of words -</b>The previous works in information retrieval has explored the vector-space representation of words(LSI) but this paper explores the reprsentation of words which helps in representing the probability distribution of the word sequences. The paper mentions that learning the word representation and probability distribution jointly is very useful."
   ]
  },
  {
   "cell_type": "markdown",
   "metadata": {},
   "source": [
    "![NNLM Model](nnlm.png)"
   ]
  },
  {
   "cell_type": "markdown",
   "metadata": {},
   "source": [
    "## Implementation"
   ]
  },
  {
   "cell_type": "code",
   "execution_count": 1,
   "metadata": {},
   "outputs": [],
   "source": [
    "import torch\n",
    "import torch.nn as nn\n",
    "import torch.optim as optim"
   ]
  },
  {
   "cell_type": "code",
   "execution_count": 19,
   "metadata": {},
   "outputs": [],
   "source": [
    "corpus = ['i like dog', 'i love coffee', 'i hate milk']  # list of all the sentences\n",
    "vocabulary = list(set(' '.join(corpus).split()))  # |v| list of all the uwords\n",
    "word2int = {w:i for i, w in enumerate(vocabulary)}\n",
    "corpus = ['i like dog', 'i love coffee', 'i hate milk']  # list of all the sentences\n",
    "vocabulary = list(set(' '.join(corpus).split()))  # |v| list of all the uwords\n",
    "n_vocab = len(vocabulary)\n",
    "\n",
    "class NNLM(nn.Module):\n",
    "\n",
    "    def __init__(self):\n",
    "        super(NNLM, self).__init__()\n",
    "\n",
    "        # projection layer\n",
    "        self.C = nn.Embedding(n_vocab, m)\n",
    "\n",
    "        # hidden layer\n",
    "        # tanh(XH + d)\n",
    "        self.H = nn.Parameter(torch.randn(n_step * m,\n",
    "                              n_hidden).type(torch.FloatTensor))\n",
    "        self.d = \\\n",
    "            nn.Parameter(torch.randn(n_hidden).type(torch.FloatTensor))\n",
    "\n",
    "        # hidden layer\n",
    "        # WX + b\n",
    "        self.W = nn.Parameter(torch.randn(n_step * m,\n",
    "                              n_vocab).type(torch.FloatTensor))\n",
    "        self.b = \\\n",
    "            nn.Parameter(torch.randn(n_vocab).type(torch.FloatTensor))\n",
    "\n",
    "        # tanh U\n",
    "        self.U = nn.Parameter(torch.randn(n_hidden,\n",
    "                              n_vocab).type(torch.FloatTensor))\n",
    "\n",
    "    def forward(self, X):\n",
    "        X = self.C(X)  # (batch_size, n_step, m)\n",
    "        X = X.view(-1, n_step * m)  # (batch_size, n_step * m)\n",
    "        tanh = torch.tanh(self.d + torch.mm(X, self.H))\n",
    "\n",
    "        output = torch.mm(tanh, self.U) + torch.mm(X, self.W) + self.b\n",
    "        return output\n",
    "\n",
    "\n",
    "def prepare_input(sentences):\n",
    "    X = []\n",
    "    Y = []\n",
    "    for sent in sentences:\n",
    "        sent = sent.split()\n",
    "        X.append([word2int[word] for word in sent[:-1]])\n",
    "        Y.append(word2int[sent[-1]])\n",
    "    return (X, Y)\n"
   ]
  },
  {
   "cell_type": "code",
   "execution_count": 20,
   "metadata": {},
   "outputs": [
    {
     "name": "stdout",
     "output_type": "stream",
     "text": [
      "Epoch: 1000 cost = 0.207585\n",
      "Epoch: 2000 cost = 0.035829\n",
      "Epoch: 3000 cost = 0.012441\n",
      "Epoch: 4000 cost = 0.005522\n",
      "Epoch: 5000 cost = 0.002739\n"
     ]
    }
   ],
   "source": [
    "X, Y = prepare_input(corpus)\n",
    "m = 2\n",
    "n_step = 2\n",
    "n_hidden =2\n",
    "model = NNLM()\n",
    "criterion = nn.CrossEntropyLoss()\n",
    "optimizer = optim.Adam(model.parameters(), lr=0.001)\n",
    "X = torch.LongTensor(X)\n",
    "Y = torch.LongTensor(Y)\n",
    "\n",
    "for epoch in range(5000):\n",
    "    optimizer.zero_grad()\n",
    "    output = model(X)\n",
    "    # output : [batch_size, n_class], target_batch : [batch_size] (LongTensor, not one-hot)\n",
    "    loss = criterion(output, Y)\n",
    "    if (epoch + 1)%1000 == 0:\n",
    "        print('Epoch:', '%04d' % (epoch + 1), 'cost =', '{:.6f}'.format(loss))\n",
    "\n",
    "    loss.backward()\n",
    "    optimizer.step()"
   ]
  },
  {
   "cell_type": "code",
   "execution_count": 21,
   "metadata": {},
   "outputs": [
    {
     "name": "stdout",
     "output_type": "stream",
     "text": [
      "Input: i like\n",
      "Output: dog\n",
      "\n",
      "\n",
      "Input: i love\n",
      "Output: coffee\n",
      "\n",
      "\n",
      "Input: i hate\n",
      "Output: milk\n",
      "\n",
      "\n"
     ]
    }
   ],
   "source": [
    "input = []\n",
    "for w in X:\n",
    "    input.append([vocabulary[i] for i in w])\n",
    "predictions = model(X).data.max(1, keepdim=True)[1].squeeze()\n",
    "\n",
    "for i,o in zip(input, [vocabulary[pred] for pred in predictions]):\n",
    "    print('Input: '+' '.join(i))\n",
    "    print('Output:',o)\n",
    "    print('\\n')"
   ]
  },
  {
   "cell_type": "markdown",
   "metadata": {},
   "source": [
    "## How word2vec improves on the NNLM model?\n",
    "\n",
    "The embedding to hidden and hidden to softmax layers are expensive in NNLM network. The softmax layers has 300*|V| weights. For a vocabulary of 10,000 words, the number of weights will be approx 3 million. Word2vec simplifies the NNLM model in few ways.\n",
    "\n",
    "- use negative sampling to update only a fraction of 3M weights in output layer.\n",
    "- modeling a binary classification instead of next word prediction model"
   ]
  }
 ],
 "metadata": {
  "kernelspec": {
   "display_name": "Python [conda env:sour] *",
   "language": "python",
   "name": "conda-env-sour-py"
  },
  "language_info": {
   "codemirror_mode": {
    "name": "ipython",
    "version": 3
   },
   "file_extension": ".py",
   "mimetype": "text/x-python",
   "name": "python",
   "nbconvert_exporter": "python",
   "pygments_lexer": "ipython3",
   "version": "3.8.2"
  }
 },
 "nbformat": 4,
 "nbformat_minor": 4
}
