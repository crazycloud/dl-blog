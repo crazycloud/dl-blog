{
  "nbformat": 4,
  "nbformat_minor": 0,
  "metadata": {
    "colab": {
      "name": "2020-09-20-Entity Extraction Transformers - Part-3.ipynb",
      "provenance": [],
      "collapsed_sections": [],
      "toc_visible": true,
      "authorship_tag": "ABX9TyPMJ11yUAxCl5EHDoPgKJ2r",
      "include_colab_link": true
    },
    "kernelspec": {
      "name": "python3",
      "display_name": "Python 3"
    },
    "accelerator": "GPU"
  },
  "cells": [
    {
      "cell_type": "markdown",
      "metadata": {
        "id": "view-in-github",
        "colab_type": "text"
      },
      "source": [
        "<a href=\"https://colab.research.google.com/github/crazycloud/dl-blog/blob/master/_notebooks/2020_09_20_Entity_Extraction_Transformers_Part_3.ipynb\" target=\"_parent\"><img src=\"https://colab.research.google.com/assets/colab-badge.svg\" alt=\"Open In Colab\"/></a>"
      ]
    },
    {
      "cell_type": "markdown",
      "metadata": {
        "id": "MmZinWwiNQWV",
        "colab_type": "text"
      },
      "source": [
        "# \"Entity Extraction (NER) - Training and Inference using Transformers - Part 3\"\n",
        "> Learn to train a NER model using Transformers Trainer Class, and to run Inference using Pipeline function\n",
        "\n",
        "- toc: true\n",
        "- branch: master\n",
        "- badges: true\n",
        "- comments: true\n",
        "- categories: [nlp, token classification]\n",
        "- image: images/transformers-ner-part1.png\n",
        "- hide: false"
      ]
    },
    {
      "cell_type": "markdown",
      "metadata": {
        "id": "MY0hOt-PRBn9",
        "colab_type": "text"
      },
      "source": [
        "In the previous post we trained the NER model for a kaggle dataset. In this post we will train an Entity Extraction model on a MIT restaurant intent dataset. Please follow the previous posts to understand the whole process of token classification using a pretrained model in Transformers."
      ]
    },
    {
      "cell_type": "code",
      "metadata": {
        "id": "WJWd8p5uPYmJ",
        "colab_type": "code",
        "colab": {
          "base_uri": "https://localhost:8080/",
          "height": 34
        },
        "outputId": "3a02db8a-b780-467a-bb4d-83f66cb483a5"
      },
      "source": [
        "from google.colab import drive\n",
        "drive.mount('/content/drive')"
      ],
      "execution_count": 4,
      "outputs": [
        {
          "output_type": "stream",
          "text": [
            "Mounted at /content/drive\n"
          ],
          "name": "stdout"
        }
      ]
    },
    {
      "cell_type": "code",
      "metadata": {
        "id": "t26CS2ymQB7W",
        "colab_type": "code",
        "colab": {}
      },
      "source": [
        "!pip install git+https://github.com/huggingface/transformers.git\n",
        "!pip install seqeval\n",
        "!pip install conllu"
      ],
      "execution_count": null,
      "outputs": []
    },
    {
      "cell_type": "markdown",
      "metadata": {
        "id": "9CqLbMF6NjXD",
        "colab_type": "text"
      },
      "source": [
        "## Download the Restaurant Intent Dataset"
      ]
    },
    {
      "cell_type": "code",
      "metadata": {
        "id": "y5XNKxMl8Wqj",
        "colab_type": "code",
        "colab": {}
      },
      "source": [
        "!wget https://groups.csail.mit.edu/sls/downloads/restaurant/restauranttrain.bio \n",
        "!wget https://groups.csail.mit.edu/sls/downloads/restaurant/restauranttest.bio "
      ],
      "execution_count": null,
      "outputs": []
    },
    {
      "cell_type": "markdown",
      "metadata": {
        "id": "9gJcXE7IN89Y",
        "colab_type": "text"
      },
      "source": [
        "The data is present in the following format \n",
        "\n",
        "`O`\ta  \n",
        "`B-Rating`\tfour     \n",
        "`I-Rating`\tstar    \n",
        "`O`\trestaurant    \n",
        "`B-Location`\twith  \n",
        "`I-Location`\ta  \n",
        "`B-Amenity`\tbar"
      ]
    },
    {
      "cell_type": "markdown",
      "metadata": {
        "id": "pOO-xYHDNvVg",
        "colab_type": "text"
      },
      "source": [
        "### Convert datafile to conllu input format for processing with [NER Task Class](https://github.com/huggingface/transformers/blob/4f6e52574248636352a746cfe6cc0b13cf3eb7f9/examples/token-classification/tasks.py)\n",
        "\n",
        "1. Reverse the tag and the column column in both the test and train files.\n",
        "\n",
        "2. Replace the tab seperator to space.\n",
        "\n",
        "3. Change the example seperator to newline"
      ]
    },
    {
      "cell_type": "code",
      "metadata": {
        "id": "DjgvoJYb8aiA",
        "colab_type": "code",
        "colab": {}
      },
      "source": [
        "!awk '{print $2,$1}' restauranttest.bio > \"/content/drive/My Drive/transformers-ner/mit-restaurant-data/test.txt\"\n",
        "!awk '{print $2,$1}' restauranttrain.bio > \"/content/drive/My Drive/transformers-ner/mit-restaurant-data/train.txt\"\n",
        "!sed -i 's/\\t/ /g' '/content/drive/My Drive/transformers-ner/mit-restaurant-data/test.txt' \n",
        "!sed -i 's/^ $/\\n/g' '/content/drive/My Drive/transformers-ner/mit-restaurant-data/test.txt'\n",
        "!sed -i 's/\\t/ /g' '/content/drive/My Drive/transformers-ner/mit-restaurant-data/train.txt' \n",
        "!sed -i 's/^ $/\\n/g' '/content/drive/My Drive/transformers-ner/mit-restaurant-data/train.txt'"
      ],
      "execution_count": 5,
      "outputs": []
    },
    {
      "cell_type": "code",
      "metadata": {
        "id": "4CeLnfzU8gXu",
        "colab_type": "code",
        "colab": {}
      },
      "source": [
        "import pandas as pd \n",
        "df = pd.read_csv('/content/drive/My Drive/transformers-ner/mit-restaurant-data/train.txt',sep=' ', header=None)"
      ],
      "execution_count": 7,
      "outputs": []
    },
    {
      "cell_type": "code",
      "metadata": {
        "id": "yRTyZfCY8lEW",
        "colab_type": "code",
        "colab": {}
      },
      "source": [
        "with open('/content/drive/My Drive/transformers-ner/mit-restaurant-data/labels.txt','w') as fout:\n",
        "  for tag in df[1].unique():\n",
        "    fout.write(tag+'\\n')"
      ],
      "execution_count": 8,
      "outputs": []
    },
    {
      "cell_type": "code",
      "metadata": {
        "id": "uBabMBWOPyrl",
        "colab_type": "code",
        "colab": {}
      },
      "source": [
        "!wget https://raw.githubusercontent.com/huggingface/transformers/master/examples/token-classification/utils_ner.py\n",
        "!wget https://raw.githubusercontent.com/huggingface/transformers/master/examples/token-classification/run_ner.py\n",
        "!wget https://raw.githubusercontent.com/huggingface/transformers/master/examples/token-classification/tasks.py"
      ],
      "execution_count": null,
      "outputs": []
    },
    {
      "cell_type": "markdown",
      "metadata": {
        "id": "qbrcJH3yQHMN",
        "colab_type": "text"
      },
      "source": [
        "## Run the Training Code"
      ]
    },
    {
      "cell_type": "code",
      "metadata": {
        "id": "TJhVO4sW8nWx",
        "colab_type": "code",
        "colab": {}
      },
      "source": [
        "!python run_ner.py  --model_name_or_path 'roberta-base'  \\\n",
        "--data_dir '/content/drive/My Drive/transformers-ner/mit-restaurant-data/' \\\n",
        "--output_dir 'restaurant-model' \\\n",
        "--max_seq_length '128' \\\n",
        "--num_train_epochs 3 \\\n",
        "--per_device_train_batch_size 8 \\\n",
        "--save_steps 1000000 \\\n",
        "--seed 16 \\\n",
        "--do_train \\\n",
        "--do_predict \\\n",
        "--overwrite_output_dir \\\n",
        "--labels \"/content/drive/My Drive/transformers-ner/mit-restaurant-data/labels.txt\" \\\n",
        "--fp16"
      ],
      "execution_count": null,
      "outputs": []
    },
    {
      "cell_type": "markdown",
      "metadata": {
        "id": "47yH2aVYS7B8",
        "colab_type": "text"
      },
      "source": [
        "The model training achieves an accuracy score of 91% on the test dataset.\n",
        "\n",
        "eval_loss = 0.29688322173849724  \n",
        "eval_accuracy_score = 0.9196127946127947  \n",
        "eval_precision = 0.7854288349216109    \n",
        "eval_recall = 0.8108536972389717  \n",
        "eval_f1 = 0.7979387882573391"
      ]
    },
    {
      "cell_type": "markdown",
      "metadata": {
        "id": "zQBu2Wst8p-d",
        "colab_type": "text"
      },
      "source": [
        "## Model Prediction"
      ]
    },
    {
      "cell_type": "markdown",
      "metadata": {
        "id": "bK4gGMU8SFd2",
        "colab_type": "text"
      },
      "source": [
        "Run the prediction using the pipeline class"
      ]
    },
    {
      "cell_type": "code",
      "metadata": {
        "id": "IG2hbJa78qU3",
        "colab_type": "code",
        "colab": {}
      },
      "source": [
        "from transformers import pipeline\n",
        "model_name = '/content/restaurant-model'\n",
        "nlp = pipeline(task=\"ner\", model=model_name, tokenizer=model_name, framework=\"pt\",grouped_entities=True)"
      ],
      "execution_count": 19,
      "outputs": []
    },
    {
      "cell_type": "code",
      "metadata": {
        "id": "WWAFZDLc8sHi",
        "colab_type": "code",
        "colab": {
          "base_uri": "https://localhost:8080/",
          "height": 176
        },
        "outputId": "dfa92a3d-6ec1-4280-9d6d-24e0b0c70106"
      },
      "source": [
        "sequence =[\"\"\"how many 5 star restaurants are near me.\"\"\",\"Which restaurant in Downtown serves best Momos?\"]\n",
        "nlp(sequence)"
      ],
      "execution_count": 22,
      "outputs": [
        {
          "output_type": "execute_result",
          "data": {
            "text/plain": [
              "[[{'entity_group': 'B-Rating', 'score': 0.9906011819839478, 'word': ' 5 star'},\n",
              "  {'entity_group': 'B-Location',\n",
              "   'score': 0.927771806716919,\n",
              "   'word': ' near me'}],\n",
              " [{'entity_group': 'B-Location',\n",
              "   'score': 0.6126553416252136,\n",
              "   'word': ' in Downtown'},\n",
              "  {'entity_group': 'B-Rating', 'score': 0.9742729663848877, 'word': ' best'},\n",
              "  {'entity_group': 'B-Dish', 'score': 0.990350604057312, 'word': ' Momos'}]]"
            ]
          },
          "metadata": {
            "tags": []
          },
          "execution_count": 22
        }
      ]
    }
  ]
}